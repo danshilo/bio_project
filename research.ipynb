{
 "cells": [
  {
   "cell_type": "code",
   "execution_count": 3,
   "id": "7f587f46-58d4-461d-b18b-0f2089c82f0e",
   "metadata": {},
   "outputs": [],
   "source": [
    "import numpy as np\n",
    "import pandas as pd\n",
    "import tensorflow as tf\n",
    "import matplotlib.pyplot as plt\n",
    "from sklearn.model_selection import train_test_split\n",
    "from sklearn.preprocessing import StandardScaler\n",
    "from sklearn.metrics import confusion_matrix\n",
    "import seaborn as sns"
   ]
  },
  {
   "cell_type": "code",
   "execution_count": 3,
   "id": "f186c1d2-b9a4-4c65-9d7b-b0dfaf2ffdfa",
   "metadata": {},
   "outputs": [],
   "source": [
    "fields = ['eid', '34-0.0', '23104-0.0', '30740-0.0', '4079-0.0', '4080-0.0', '104920-0.0', '104910-0.0', '104900-0.0', \n",
    "        '104920-0.0', '104910-0.0', \n",
    "        '104900-0.0', '20107-0.0', '20110-0.0', '20111-0.0', \n",
    "        '30000-0.0', '30010-0.0', '4194-0.0', '30760-0.0', '30780-0.0', '2443-0.0']\n",
    "    \n",
    "ordered_cols = ['ID', 'Year-of-Birth', 'BMI', 'Glucose level', 'Systolic blood pressure', 'Diastolic blood pressure', 'time spent doing light physical activity', 'time spent doing moderate physical activity', \n",
    "        'time spent doing vigorous physical activity', 'Illnesses of father', 'Illnesses of mother', 'Illnesses of siblings',\n",
    "        'white blood cell count', 'red blood cell count', 'Pulse rate','HDL cholesterol blood result','LDL cholesterol blood result','diabetes diagnosed']\n",
    "\n",
    "ordered_cols_with_age = ['ID', 'Age', 'BMI', 'Glucose level', 'Systolic blood pressure', 'Diastolic blood pressure', 'time spent doing light physical activity', 'time spent doing moderate physical activity', \n",
    "        'time spent doing vigorous physical activity', 'Illnesses of father', 'Illnesses of mother', 'Illnesses of siblings',\n",
    "        'white blood cell count', 'red blood cell count', 'Pulse rate','HDL cholesterol blood result','LDL cholesterol blood result','diabetes diagnosed']\n",
    "\n",
    "ukb_fields = ['eid', '34-0.0', '2443-0.0', '4079-0.0', '4080-0.0',\n",
    "                 '4194-0.0', '20107-0.0', '20110-0.0', '20111-0.0', '23104-0.0', '30000-0.0', '30010-0.0',\n",
    "                 '30740-0.0', '30760-0.0', '30780-0.0',\n",
    "                 '104900-0.0', '104910-0.0', '104920-0.0']\n",
    "\n",
    "ukb_cols = ['ID', 'Year-of-Birth', 'diabetes diagnosed', 'Systolic blood pressure', 'Diastolic blood pressure',\n",
    "               'Pulse rate', 'Illnesses of father', 'Illnesses of mother', 'Illnesses of siblings', 'BMI', 'white blood cell count', 'red blood cell count',\n",
    "               'Glucose level', 'HDL cholesterol blood result', 'LDL cholesterol blood result',\n",
    "               'time spent doing vigorous physical activity', 'time spent doing moderate physical activity', 'time spent doing light physical activity']\n"
   ]
  },
  {
   "cell_type": "code",
   "execution_count": 8,
   "id": "fccb4fe8-6219-43d7-bdfa-fa53f09aedcd",
   "metadata": {},
   "outputs": [],
   "source": [
    "def create_plot(name, x_name, y_name, x_values, y_values, plot_type='vertical'):\n",
    "    \"\"\"\n",
    "    Creates a plot based on the given data.\n",
    "\n",
    "    Parameters:\n",
    "        x_name (str): Label for the x-axis.\n",
    "        y_name (str): Label for the y-axis.\n",
    "        x_values (list): List of values for the x-axis.\n",
    "        y_values (list): List of values for the y-axis.\n",
    "        plot_type (str, optional): Type of plot to create ('vertical', 'horizontal', or 'pie').\n",
    "                                   Default is 'vertical'.\n",
    "\n",
    "    Returns:\n",
    "        None\n",
    "    \"\"\"\n",
    "\n",
    "    if plot_type not in ['vertical', 'horizontal', 'pie']:\n",
    "        raise ValueError(\"Invalid plot type. Choose 'vertical', 'horizontal', or 'pie'.\")\n",
    "\n",
    "    if len(x_values) != len(y_values):\n",
    "        raise ValueError(\"The number of x_values and y_values must be the same.\")\n",
    "    bar_width = 0.3\n",
    "    if plot_type == 'vertical':\n",
    "        plt.bar(x_values, y_values, width=bar_width)\n",
    "        for i, value in enumerate(y_values):\n",
    "            plt.text(i, value, str(value), ha='center', va='bottom')\n",
    "        if(x_name != ''): plt.xlabel(x_name)\n",
    "        plt.ylabel(y_name)\n",
    "    elif plot_type == 'horizontal':\n",
    "        plt.barh(x_values, y_values, height=bar_width)\n",
    "        for i, value in enumerate(y_values):\n",
    "            plt.text(value, i, str(value), ha='left', va='center')\n",
    "        if(x_name != ''): plt.xlabel(y_name)\n",
    "        plt.ylabel(x_name)\n",
    "    elif plot_type == 'pie':\n",
    "        plt.pie(y_values, labels=x_values, autopct='%1.1f%%')\n",
    "        plt.axis('equal')\n",
    "        \n",
    "    plt.title(name)\n",
    "    plt.show()\n",
    "\n",
    "def plot_confusion_matrix(y_true, y_pred, labels, title=\"Confusion Matrix\"):\n",
    "    cm = confusion_matrix(y_true, y_pred)\n",
    "    cm = cm.astype('float') / cm.sum(axis=1)[:, np.newaxis]  # Normalize the confusion matrix\n",
    "\n",
    "    plt.figure(figsize=(7, 5))\n",
    "    sns.heatmap(cm, annot=True, fmt=\".2f\", cmap=\"Blues\", linewidths=0.5, xticklabels=labels, yticklabels=labels)\n",
    "    plt.xlabel('Predicted labels')\n",
    "    plt.ylabel('True labels')\n",
    "    plt.title(title)\n",
    "    plt.show()\n",
    "\n",
    "def rank_features_by_importance(model, feature_names):\n",
    "    # Get the feature importance scores from the first layer of the neural network\n",
    "    feature_importance_scores = model.layers[1].get_weights()[0]\n",
    "    \n",
    "    # Calculate the absolute importance scores\n",
    "    absolute_importance_scores = np.abs(feature_importance_scores)\n",
    "    \n",
    "    # Calculate the average importance score for each feature across all neurons in the first layer\n",
    "    average_importance_scores = np.mean(absolute_importance_scores, axis=0)\n",
    "    \n",
    "    # Create a dictionary to map feature names to their importance scores\n",
    "    feature_importance_dict = dict(zip(feature_names, average_importance_scores))\n",
    "    \n",
    "    # Sort the features based on their importance scores in descending order\n",
    "    ranked_features = sorted(feature_importance_dict.items(), key=lambda x: x[1], reverse=True)\n",
    "    \n",
    "    return ranked_features"
   ]
  },
  {
   "cell_type": "code",
   "execution_count": 6,
   "id": "f45a1b7c-9d6a-47c1-885c-82053c2e9143",
   "metadata": {},
   "outputs": [],
   "source": [
    "file = 'initial_dataset_with_all_fields2.csv'"
   ]
  },
  {
   "cell_type": "code",
   "execution_count": 33,
   "id": "f2380759-b1c7-41d6-a727-93542ed9adfa",
   "metadata": {},
   "outputs": [],
   "source": [
    "# read data\n",
    "df = pd.read_csv(file)"
   ]
  },
  {
   "cell_type": "code",
   "execution_count": 34,
   "id": "e8fb7b34-68dc-4165-b156-0c9e9aabd117",
   "metadata": {},
   "outputs": [],
   "source": [
    "# rearange the columns\n",
    "df = df[ordered_cols]"
   ]
  },
  {
   "cell_type": "code",
   "execution_count": 35,
   "id": "cf919d04-f3d9-416e-bfa9-3e8892c71055",
   "metadata": {},
   "outputs": [],
   "source": [
    "# calculate age\n",
    "df['Age'] = 2023 - df['Year-of-Birth']\n",
    "df = df.drop(['Year-of-Birth'], axis=1)\n",
    "df = df[ordered_cols_with_age]"
   ]
  },
  {
   "cell_type": "code",
   "execution_count": 36,
   "id": "9c1f7d18-dce9-4f58-a8de-494cf48a4ed5",
   "metadata": {},
   "outputs": [
    {
     "data": {
      "text/plain": [
       "Index(['ID', 'Age', 'BMI', 'Glucose level', 'Systolic blood pressure',\n",
       "       'Diastolic blood pressure', 'time spent doing light physical activity',\n",
       "       'time spent doing moderate physical activity',\n",
       "       'time spent doing vigorous physical activity', 'Illnesses of father',\n",
       "       'Illnesses of mother', 'Illnesses of siblings',\n",
       "       'white blood cell count', 'red blood cell count', 'Pulse rate',\n",
       "       'HDL cholesterol blood result', 'LDL cholesterol blood result',\n",
       "       'diabetes diagnosed'],\n",
       "      dtype='object')"
      ]
     },
     "execution_count": 36,
     "metadata": {},
     "output_type": "execute_result"
    }
   ],
   "source": [
    "df.columns"
   ]
  },
  {
   "cell_type": "code",
   "execution_count": 37,
   "id": "9f137bcb-ef8d-4ed6-8afe-52308fc2927b",
   "metadata": {},
   "outputs": [],
   "source": [
    "# transform family illnesess\n",
    "df['Illnesses of father'].where(df['Illnesses of father'] >=0, other=0, inplace=True)\n",
    "df['Illnesses of mother'].where(df['Illnesses of mother'] >=0, other=0, inplace=True)\n",
    "df['Illnesses of siblings'].where(df['Illnesses of siblings'] >=0, other=0, inplace=True)"
   ]
  },
  {
   "cell_type": "code",
   "execution_count": 38,
   "id": "98015d94-f7f8-46eb-88f8-6cbf2c5eff70",
   "metadata": {},
   "outputs": [],
   "source": [
    "# resolve missing numeric parameters\n",
    "fields_to_mean = ['BMI',\n",
    "                  'Glucose level',\n",
    "                  'Systolic blood pressure',\n",
    "                  'Diastolic blood pressure', \n",
    "                  'Pulse rate',\n",
    "                  'HDL cholesterol blood result', \n",
    "                  'LDL cholesterol blood result',\n",
    "                  'white blood cell count',\n",
    "                  'red blood cell count'\n",
    "                 ]\n",
    "df[fields_to_mean] = df[fields_to_mean].fillna(df[fields_to_mean].mean())"
   ]
  },
  {
   "cell_type": "code",
   "execution_count": 39,
   "id": "aedcf363-5d0f-4306-ba45-4a3f56e0a4f3",
   "metadata": {},
   "outputs": [],
   "source": [
    "# resolve missing catagorial parameters\n",
    "fields_to_median = ['Age', 'time spent doing light physical activity', 'time spent doing moderate physical activity', 'time spent doing vigorous physical activity', \n",
    "'Illnesses of father', 'Illnesses of mother', 'Illnesses of siblings']\n",
    "df[fields_to_median] = df[fields_to_median].fillna(df[fields_to_median].median())"
   ]
  },
  {
   "cell_type": "code",
   "execution_count": 40,
   "id": "773b4524-5368-45bb-95d2-5d829e13575c",
   "metadata": {},
   "outputs": [],
   "source": [
    "# resolve missing labels\n",
    "df['diabetes diagnosed'].where(df['diabetes diagnosed'] >=0, other=0, inplace=True)\n",
    "df.dropna(subset=['diabetes diagnosed'], inplace=True)"
   ]
  },
  {
   "cell_type": "raw",
   "id": "5bc9130c-8eaa-412d-a5aa-3411f39c4af8",
   "metadata": {},
   "source": [
    "data is ready!"
   ]
  },
  {
   "cell_type": "code",
   "execution_count": 41,
   "id": "f3ea053c-8c86-4378-a2d9-9126686c7347",
   "metadata": {},
   "outputs": [],
   "source": [
    "# save df to csv\n",
    "df.to_csv('processed_data.csv', index=False)"
   ]
  },
  {
   "cell_type": "code",
   "execution_count": 12,
   "id": "51e40b7d-c4de-471f-932d-b8a41c8060b3",
   "metadata": {},
   "outputs": [
    {
     "name": "stdout",
     "output_type": "stream",
     "text": [
      "502370\n",
      "475975\n",
      "healthy people percent = 0.9475%\n",
      "num_to_keep = 47597\n",
      "healthy people percent = 0.6433%\n",
      "sick people percent = 0.3567%\n",
      "df.shape = 73992\n"
     ]
    }
   ],
   "source": [
    "# load data\n",
    "df = pd.read_csv('processed_data.csv')\n",
    "\n",
    "negative_indices = df[df['diabetes diagnosed']==0].index\n",
    "positive_indices = df[df['diabetes diagnosed']==1].index\n",
    "\n",
    "print(df.shape[0])\n",
    "print(len(negative_indices))\n",
    "print(f'healthy people percent = {(len(negative_indices) / df.shape[0]):.4f}%')\n",
    "\n",
    "num_to_keep = int(len(negative_indices) * 1 / 10)\n",
    "\n",
    "print(f'num_to_keep = {num_to_keep}')\n",
    "\n",
    "random_negative_indices = np.random.choice(negative_indices, num_to_keep, replace=False)\n",
    "selected_indices = np.concatenate((positive_indices, random_negative_indices))\n",
    "df = df.loc[selected_indices]\n",
    "\n",
    "negative_indices = df[df['diabetes diagnosed']==0].index\n",
    "positive_indices = df[df['diabetes diagnosed']==1].index\n",
    "\n",
    "print(f'healthy people percent = {(len(negative_indices) / df.shape[0]):.4f}%')\n",
    "print(f'sick people percent = {(len(positive_indices) / df.shape[0]):.4f}%')\n",
    "print(f'df.shape = {df.shape[0]}')"
   ]
  },
  {
   "cell_type": "code",
   "execution_count": 6,
   "id": "27895ec6-276b-4ee1-a5b4-d0a64ae726ed",
   "metadata": {},
   "outputs": [
    {
     "name": "stdout",
     "output_type": "stream",
     "text": [
      "sick mean age: 74.44788785754878\n",
      "sick min age: 53.0\n",
      "sick max age: 87.0\n",
      "sick unique values: [82. 68. 81. 66. 74. 76. 69. 72. 55. 85. 62. 75. 83. 64. 65. 79. 80. 57.\n",
      " 67. 70. 73. 54. 78. 71. 84. 77. 59. 61. 58. 60. 63. 86. 56. 87. 53.]\n",
      "\n",
      "healthy mean age: 71.25250437004168\n",
      "healthy min age: 53.0\n",
      "healthy max age: 87.0\n",
      "healthy unique values: [83. 75. 81. 70. 65. 62. 60. 68. 72. 80. 84. 74. 66. 79. 73. 56. 82. 61.\n",
      " 69. 58. 64. 63. 59. 76. 77. 55. 71. 78. 57. 67. 54. 85. 53. 86. 87.]\n"
     ]
    },
    {
     "data": {
      "image/png": "[encoded data removed]",
      "text/plain": [
       "<Figure size 640x480 with 1 Axes>"
      ]
     },
     "metadata": {},
     "output_type": "display_data"
    }
   ],
   "source": [
    "sick = df.loc[df['diabetes diagnosed']==1]\n",
    "print(f\"sick mean age: {sick['Age'].mean()}\")\n",
    "print(f\"sick min age: {sick['Age'].min()}\")\n",
    "print(f\"sick max age: {sick['Age'].max()}\")\n",
    "print(f\"sick unique values: {sick['Age'].unique()}\\n\")\n",
    "\n",
    "healthy = df.loc[df['diabetes diagnosed']==0]\n",
    "print(f\"healthy mean age: {healthy['Age'].mean()}\")\n",
    "print(f\"healthy min age: {healthy['Age'].min()}\")\n",
    "print(f\"healthy max age: {healthy['Age'].max()}\")\n",
    "print(f\"healthy unique values: {healthy['Age'].unique()}\")\n",
    "\n",
    "num_positive = len(positive_indices)\n",
    "num_negative = len(negative_indices)\n",
    "\n",
    "create_plot('Diabetes Diagnosed by Doctor', '', '(thousands)', ['No', 'Yes'], [num_positive, num_negative], 'vertical')"
   ]
  },
  {
   "cell_type": "code",
   "execution_count": 13,
   "id": "8b30830c-616a-4f0b-a520-a5736b9ce7e2",
   "metadata": {},
   "outputs": [],
   "source": [
    "# split the data into train and test\n",
    "X = df.drop(columns=['ID', 'Age', 'diabetes diagnosed'])\n",
    "#X = df.drop(columns=['Glucose level'])\n",
    "y = df['diabetes diagnosed']\n",
    "X_train, X_test, y_train, y_test = train_test_split(X, y, test_size=0.2, random_state=42)\n",
    "\n",
    "scaler = StandardScaler()\n",
    "X_train_scaled = scaler.fit_transform(X_train)\n",
    "X_test_scaled = scaler.transform(X_test)"
   ]
  },
  {
   "cell_type": "code",
   "execution_count": 14,
   "id": "99bbaee6-539e-4325-ba60-d6fa12f09e70",
   "metadata": {},
   "outputs": [
    {
     "name": "stdout",
     "output_type": "stream",
     "text": [
      "Epoch 1/50\n",
      "1660/1665 [============================>.] - ETA: 0s - loss: 0.3899 - accuracy: 0.8319\n",
      "Epoch 1: saving model to training_4/cp.ckpt\n",
      "1665/1665 [==============================] - 3s 1ms/step - loss: 0.3899 - accuracy: 0.8318 - val_loss: 0.3766 - val_accuracy: 0.8390\n",
      "Epoch 2/50\n",
      "1646/1665 [============================>.] - ETA: 0s - loss: 0.3706 - accuracy: 0.8413\n",
      "Epoch 2: saving model to training_4/cp.ckpt\n",
      "1665/1665 [==============================] - 2s 1ms/step - loss: 0.3707 - accuracy: 0.8412 - val_loss: 0.3717 - val_accuracy: 0.8405\n",
      "Epoch 3/50\n",
      "1637/1665 [============================>.] - ETA: 0s - loss: 0.3646 - accuracy: 0.8436\n",
      "Epoch 3: saving model to training_4/cp.ckpt\n",
      "1665/1665 [==============================] - 2s 1ms/step - loss: 0.3652 - accuracy: 0.8431 - val_loss: 0.3710 - val_accuracy: 0.8383\n",
      "Epoch 4/50\n",
      "1650/1665 [============================>.] - ETA: 0s - loss: 0.3614 - accuracy: 0.8456\n",
      "Epoch 4: saving model to training_4/cp.ckpt\n",
      "1665/1665 [==============================] - 2s 1ms/step - loss: 0.3617 - accuracy: 0.8455 - val_loss: 0.3666 - val_accuracy: 0.8441\n",
      "Epoch 5/50\n",
      "1629/1665 [============================>.] - ETA: 0s - loss: 0.3588 - accuracy: 0.8455\n",
      "Epoch 5: saving model to training_4/cp.ckpt\n",
      "1665/1665 [==============================] - 2s 1ms/step - loss: 0.3591 - accuracy: 0.8453 - val_loss: 0.3700 - val_accuracy: 0.8389\n",
      "Epoch 6/50\n",
      "1648/1665 [============================>.] - ETA: 0s - loss: 0.3573 - accuracy: 0.8471\n",
      "Epoch 6: saving model to training_4/cp.ckpt\n",
      "1665/1665 [==============================] - 2s 1ms/step - loss: 0.3575 - accuracy: 0.8470 - val_loss: 0.3659 - val_accuracy: 0.8444\n",
      "Epoch 7/50\n",
      "1628/1665 [============================>.] - ETA: 0s - loss: 0.3552 - accuracy: 0.8473\n",
      "Epoch 7: saving model to training_4/cp.ckpt\n",
      "1665/1665 [==============================] - 2s 1ms/step - loss: 0.3553 - accuracy: 0.8473 - val_loss: 0.3644 - val_accuracy: 0.8448\n",
      "Epoch 8/50\n",
      "1633/1665 [============================>.] - ETA: 0s - loss: 0.3537 - accuracy: 0.8481\n",
      "Epoch 8: saving model to training_4/cp.ckpt\n",
      "1665/1665 [==============================] - 2s 1ms/step - loss: 0.3542 - accuracy: 0.8477 - val_loss: 0.3663 - val_accuracy: 0.8432\n",
      "Epoch 9/50\n",
      "1657/1665 [============================>.] - ETA: 0s - loss: 0.3526 - accuracy: 0.8484\n",
      "Epoch 9: saving model to training_4/cp.ckpt\n",
      "1665/1665 [==============================] - 2s 1ms/step - loss: 0.3526 - accuracy: 0.8486 - val_loss: 0.3638 - val_accuracy: 0.8463\n",
      "Epoch 10/50\n",
      "1657/1665 [============================>.] - ETA: 0s - loss: 0.3518 - accuracy: 0.8488\n",
      "Epoch 10: saving model to training_4/cp.ckpt\n",
      "1665/1665 [==============================] - 2s 1ms/step - loss: 0.3519 - accuracy: 0.8488 - val_loss: 0.3680 - val_accuracy: 0.8470\n",
      "Epoch 11/50\n",
      "1633/1665 [============================>.] - ETA: 0s - loss: 0.3508 - accuracy: 0.8493\n",
      "Epoch 11: saving model to training_4/cp.ckpt\n",
      "1665/1665 [==============================] - 2s 1ms/step - loss: 0.3509 - accuracy: 0.8493 - val_loss: 0.3634 - val_accuracy: 0.8432\n",
      "Epoch 12/50\n",
      "1632/1665 [============================>.] - ETA: 0s - loss: 0.3489 - accuracy: 0.8499\n",
      "Epoch 12: saving model to training_4/cp.ckpt\n",
      "1665/1665 [==============================] - 2s 1ms/step - loss: 0.3489 - accuracy: 0.8499 - val_loss: 0.3639 - val_accuracy: 0.8441\n",
      "Epoch 13/50\n",
      "1646/1665 [============================>.] - ETA: 0s - loss: 0.3486 - accuracy: 0.8505\n",
      "Epoch 13: saving model to training_4/cp.ckpt\n",
      "1665/1665 [==============================] - 2s 1ms/step - loss: 0.3486 - accuracy: 0.8504 - val_loss: 0.3626 - val_accuracy: 0.8466\n",
      "Epoch 14/50\n",
      "1629/1665 [============================>.] - ETA: 0s - loss: 0.3471 - accuracy: 0.8512\n",
      "Epoch 14: saving model to training_4/cp.ckpt\n",
      "1665/1665 [==============================] - 2s 1ms/step - loss: 0.3473 - accuracy: 0.8510 - val_loss: 0.3648 - val_accuracy: 0.8427\n",
      "Epoch 15/50\n",
      "1642/1665 [============================>.] - ETA: 0s - loss: 0.3457 - accuracy: 0.8516\n",
      "Epoch 15: saving model to training_4/cp.ckpt\n",
      "1665/1665 [==============================] - 2s 1ms/step - loss: 0.3457 - accuracy: 0.8517 - val_loss: 0.3606 - val_accuracy: 0.8492\n",
      "Epoch 16/50\n",
      "1647/1665 [============================>.] - ETA: 0s - loss: 0.3445 - accuracy: 0.8523\n",
      "Epoch 16: saving model to training_4/cp.ckpt\n",
      "1665/1665 [==============================] - 2s 1ms/step - loss: 0.3450 - accuracy: 0.8521 - val_loss: 0.3621 - val_accuracy: 0.8454\n",
      "Epoch 17/50\n",
      "1647/1665 [============================>.] - ETA: 0s - loss: 0.3441 - accuracy: 0.8513\n",
      "Epoch 17: saving model to training_4/cp.ckpt\n",
      "1665/1665 [==============================] - 2s 1ms/step - loss: 0.3441 - accuracy: 0.8511 - val_loss: 0.3625 - val_accuracy: 0.8449\n",
      "Epoch 18/50\n",
      "1664/1665 [============================>.] - ETA: 0s - loss: 0.3429 - accuracy: 0.8527\n",
      "Epoch 18: saving model to training_4/cp.ckpt\n",
      "1665/1665 [==============================] - 2s 1ms/step - loss: 0.3429 - accuracy: 0.8528 - val_loss: 0.3632 - val_accuracy: 0.8443\n",
      "Epoch 19/50\n",
      "1636/1665 [============================>.] - ETA: 0s - loss: 0.3429 - accuracy: 0.8515\n",
      "Epoch 19: saving model to training_4/cp.ckpt\n",
      "1665/1665 [==============================] - 2s 1ms/step - loss: 0.3420 - accuracy: 0.8521 - val_loss: 0.3650 - val_accuracy: 0.8446\n",
      "Epoch 20/50\n",
      "1627/1665 [============================>.] - ETA: 0s - loss: 0.3413 - accuracy: 0.8533\n",
      "Epoch 20: saving model to training_4/cp.ckpt\n",
      "1665/1665 [==============================] - 2s 1ms/step - loss: 0.3413 - accuracy: 0.8531 - val_loss: 0.3635 - val_accuracy: 0.8466\n",
      "Epoch 21/50\n",
      "1646/1665 [============================>.] - ETA: 0s - loss: 0.3407 - accuracy: 0.8526\n",
      "Epoch 21: saving model to training_4/cp.ckpt\n",
      "1665/1665 [==============================] - 2s 1ms/step - loss: 0.3404 - accuracy: 0.8527 - val_loss: 0.3639 - val_accuracy: 0.8478\n",
      "Epoch 22/50\n",
      "1626/1665 [============================>.] - ETA: 0s - loss: 0.3395 - accuracy: 0.8532\n",
      "Epoch 22: saving model to training_4/cp.ckpt\n",
      "1665/1665 [==============================] - 2s 1ms/step - loss: 0.3396 - accuracy: 0.8535 - val_loss: 0.3653 - val_accuracy: 0.8448\n",
      "Epoch 23/50\n",
      "1662/1665 [============================>.] - ETA: 0s - loss: 0.3390 - accuracy: 0.8534\n",
      "Epoch 23: saving model to training_4/cp.ckpt\n",
      "1665/1665 [==============================] - 2s 1ms/step - loss: 0.3390 - accuracy: 0.8535 - val_loss: 0.3674 - val_accuracy: 0.8459\n",
      "Epoch 24/50\n",
      "1660/1665 [============================>.] - ETA: 0s - loss: 0.3379 - accuracy: 0.8544\n",
      "Epoch 24: saving model to training_4/cp.ckpt\n",
      "1665/1665 [==============================] - 2s 1ms/step - loss: 0.3379 - accuracy: 0.8544 - val_loss: 0.3646 - val_accuracy: 0.8456\n",
      "Epoch 25/50\n",
      "1648/1665 [============================>.] - ETA: 0s - loss: 0.3379 - accuracy: 0.8545\n",
      "Epoch 25: saving model to training_4/cp.ckpt\n",
      "1665/1665 [==============================] - 2s 1ms/step - loss: 0.3377 - accuracy: 0.8547 - val_loss: 0.3663 - val_accuracy: 0.8446\n",
      "Epoch 26/50\n",
      "1661/1665 [============================>.] - ETA: 0s - loss: 0.3369 - accuracy: 0.8544\n",
      "Epoch 26: saving model to training_4/cp.ckpt\n",
      "1665/1665 [==============================] - 2s 1ms/step - loss: 0.3368 - accuracy: 0.8545 - val_loss: 0.3690 - val_accuracy: 0.8475\n",
      "Epoch 27/50\n",
      "1665/1665 [==============================] - ETA: 0s - loss: 0.3358 - accuracy: 0.8548\n",
      "Epoch 27: saving model to training_4/cp.ckpt\n",
      "1665/1665 [==============================] - 2s 1ms/step - loss: 0.3358 - accuracy: 0.8548 - val_loss: 0.3648 - val_accuracy: 0.8438\n",
      "Epoch 28/50\n",
      "1630/1665 [============================>.] - ETA: 0s - loss: 0.3356 - accuracy: 0.8549\n",
      "Epoch 28: saving model to training_4/cp.ckpt\n",
      "1665/1665 [==============================] - 2s 1ms/step - loss: 0.3354 - accuracy: 0.8552 - val_loss: 0.3665 - val_accuracy: 0.8453\n",
      "Epoch 29/50\n",
      "1624/1665 [============================>.] - ETA: 0s - loss: 0.3345 - accuracy: 0.8561\n",
      "Epoch 29: saving model to training_4/cp.ckpt\n",
      "1665/1665 [==============================] - 2s 1ms/step - loss: 0.3348 - accuracy: 0.8560 - val_loss: 0.3702 - val_accuracy: 0.8434\n",
      "Epoch 30/50\n",
      "1654/1665 [============================>.] - ETA: 0s - loss: 0.3347 - accuracy: 0.8558\n",
      "Epoch 30: saving model to training_4/cp.ckpt\n",
      "1665/1665 [==============================] - 2s 1ms/step - loss: 0.3346 - accuracy: 0.8559 - val_loss: 0.3692 - val_accuracy: 0.8409\n",
      "Epoch 31/50\n",
      "1655/1665 [============================>.] - ETA: 0s - loss: 0.3342 - accuracy: 0.8565\n",
      "Epoch 31: saving model to training_4/cp.ckpt\n",
      "1665/1665 [==============================] - 2s 1ms/step - loss: 0.3340 - accuracy: 0.8566 - val_loss: 0.3684 - val_accuracy: 0.8446\n",
      "Epoch 32/50\n",
      "1642/1665 [============================>.] - ETA: 0s - loss: 0.3333 - accuracy: 0.8566\n",
      "Epoch 32: saving model to training_4/cp.ckpt\n",
      "1665/1665 [==============================] - 2s 1ms/step - loss: 0.3330 - accuracy: 0.8567 - val_loss: 0.3673 - val_accuracy: 0.8436\n",
      "Epoch 33/50\n",
      "1636/1665 [============================>.] - ETA: 0s - loss: 0.3323 - accuracy: 0.8565\n",
      "Epoch 33: saving model to training_4/cp.ckpt\n",
      "1665/1665 [==============================] - 2s 1ms/step - loss: 0.3326 - accuracy: 0.8562 - val_loss: 0.3692 - val_accuracy: 0.8439\n",
      "Epoch 34/50\n",
      "1655/1665 [============================>.] - ETA: 0s - loss: 0.3322 - accuracy: 0.8566\n",
      "Epoch 34: saving model to training_4/cp.ckpt\n",
      "1665/1665 [==============================] - 2s 1ms/step - loss: 0.3321 - accuracy: 0.8568 - val_loss: 0.3700 - val_accuracy: 0.8431\n",
      "Epoch 35/50\n",
      "1662/1665 [============================>.] - ETA: 0s - loss: 0.3317 - accuracy: 0.8570\n",
      "Epoch 35: saving model to training_4/cp.ckpt\n",
      "1665/1665 [==============================] - 2s 1ms/step - loss: 0.3317 - accuracy: 0.8571 - val_loss: 0.3707 - val_accuracy: 0.8390\n",
      "Epoch 36/50\n",
      "1631/1665 [============================>.] - ETA: 0s - loss: 0.3324 - accuracy: 0.8557\n",
      "Epoch 36: saving model to training_4/cp.ckpt\n",
      "1665/1665 [==============================] - 2s 1ms/step - loss: 0.3315 - accuracy: 0.8565 - val_loss: 0.3728 - val_accuracy: 0.8417\n",
      "Epoch 37/50\n",
      "1660/1665 [============================>.] - ETA: 0s - loss: 0.3302 - accuracy: 0.8578\n",
      "Epoch 37: saving model to training_4/cp.ckpt\n",
      "1665/1665 [==============================] - 2s 1ms/step - loss: 0.3302 - accuracy: 0.8578 - val_loss: 0.3708 - val_accuracy: 0.8456\n",
      "Epoch 38/50\n",
      "1623/1665 [============================>.] - ETA: 0s - loss: 0.3298 - accuracy: 0.8572\n",
      "Epoch 38: saving model to training_4/cp.ckpt\n",
      "1665/1665 [==============================] - 2s 1ms/step - loss: 0.3303 - accuracy: 0.8567 - val_loss: 0.3712 - val_accuracy: 0.8421\n",
      "Epoch 39/50\n",
      "1645/1665 [============================>.] - ETA: 0s - loss: 0.3299 - accuracy: 0.8575\n",
      "Epoch 39: saving model to training_4/cp.ckpt\n",
      "1665/1665 [==============================] - 2s 1ms/step - loss: 0.3300 - accuracy: 0.8575 - val_loss: 0.3695 - val_accuracy: 0.8456\n",
      "Epoch 40/50\n",
      "1643/1665 [============================>.] - ETA: 0s - loss: 0.3288 - accuracy: 0.8587\n",
      "Epoch 40: saving model to training_4/cp.ckpt\n",
      "1665/1665 [==============================] - 2s 1ms/step - loss: 0.3289 - accuracy: 0.8587 - val_loss: 0.3729 - val_accuracy: 0.8400\n",
      "Epoch 41/50\n",
      "1665/1665 [==============================] - ETA: 0s - loss: 0.3289 - accuracy: 0.8578\n",
      "Epoch 41: saving model to training_4/cp.ckpt\n",
      "1665/1665 [==============================] - 2s 1ms/step - loss: 0.3289 - accuracy: 0.8578 - val_loss: 0.3693 - val_accuracy: 0.8409\n",
      "Epoch 42/50\n",
      "1662/1665 [============================>.] - ETA: 0s - loss: 0.3280 - accuracy: 0.8590\n",
      "Epoch 42: saving model to training_4/cp.ckpt\n",
      "1665/1665 [==============================] - 2s 1ms/step - loss: 0.3279 - accuracy: 0.8591 - val_loss: 0.3727 - val_accuracy: 0.8392\n",
      "Epoch 43/50\n",
      "1654/1665 [============================>.] - ETA: 0s - loss: 0.3286 - accuracy: 0.8588\n",
      "Epoch 43: saving model to training_4/cp.ckpt\n",
      "1665/1665 [==============================] - 2s 1ms/step - loss: 0.3284 - accuracy: 0.8589 - val_loss: 0.3712 - val_accuracy: 0.8416\n",
      "Epoch 44/50\n",
      "1632/1665 [============================>.] - ETA: 0s - loss: 0.3283 - accuracy: 0.8580\n",
      "Epoch 44: saving model to training_4/cp.ckpt\n",
      "1665/1665 [==============================] - 2s 1ms/step - loss: 0.3276 - accuracy: 0.8584 - val_loss: 0.3717 - val_accuracy: 0.8409\n",
      "Epoch 45/50\n",
      "1645/1665 [============================>.] - ETA: 0s - loss: 0.3277 - accuracy: 0.8591\n",
      "Epoch 45: saving model to training_4/cp.ckpt\n",
      "1665/1665 [==============================] - 2s 1ms/step - loss: 0.3277 - accuracy: 0.8592 - val_loss: 0.3740 - val_accuracy: 0.8434\n",
      "Epoch 46/50\n",
      "1659/1665 [============================>.] - ETA: 0s - loss: 0.3271 - accuracy: 0.8593\n",
      "Epoch 46: saving model to training_4/cp.ckpt\n",
      "1665/1665 [==============================] - 2s 1ms/step - loss: 0.3272 - accuracy: 0.8592 - val_loss: 0.3772 - val_accuracy: 0.8419\n",
      "Epoch 47/50\n",
      "1658/1665 [============================>.] - ETA: 0s - loss: 0.3267 - accuracy: 0.8600\n",
      "Epoch 47: saving model to training_4/cp.ckpt\n",
      "1665/1665 [==============================] - 2s 1ms/step - loss: 0.3265 - accuracy: 0.8601 - val_loss: 0.3744 - val_accuracy: 0.8397\n",
      "Epoch 48/50\n",
      "1625/1665 [============================>.] - ETA: 0s - loss: 0.3259 - accuracy: 0.8599\n",
      "Epoch 48: saving model to training_4/cp.ckpt\n",
      "1665/1665 [==============================] - 2s 1ms/step - loss: 0.3263 - accuracy: 0.8597 - val_loss: 0.3772 - val_accuracy: 0.8370\n",
      "Epoch 49/50\n",
      "1661/1665 [============================>.] - ETA: 0s - loss: 0.3262 - accuracy: 0.8599\n",
      "Epoch 49: saving model to training_4/cp.ckpt\n",
      "1665/1665 [==============================] - 2s 1ms/step - loss: 0.3263 - accuracy: 0.8599 - val_loss: 0.3700 - val_accuracy: 0.8417\n",
      "Epoch 50/50\n",
      "1655/1665 [============================>.] - ETA: 0s - loss: 0.3262 - accuracy: 0.8594\n",
      "Epoch 50: saving model to training_4/cp.ckpt\n",
      "1665/1665 [==============================] - 2s 1ms/step - loss: 0.3263 - accuracy: 0.8594 - val_loss: 0.3728 - val_accuracy: 0.8448\n"
     ]
    },
    {
     "data": {
      "text/plain": [
       "<keras.src.callbacks.History at 0x7fdda805be20>"
      ]
     },
     "execution_count": 14,
     "metadata": {},
     "output_type": "execute_result"
    }
   ],
   "source": [
    "# create and train the neural network model\n",
    "model = tf.keras.models.Sequential([\n",
    "    tf.keras.layers.Dense(64, activation='relu', input_shape=(X_train_scaled.shape[1],)),\n",
    "    tf.keras.layers.Dense(32, activation='relu'),\n",
    "    tf.keras.layers.Dense(1, activation='sigmoid')\n",
    "])\n",
    "\n",
    "# define a checkpoint to save the model's weights\n",
    "import os\n",
    "checkpoint_path = 'training_4/cp.ckpt'\n",
    "checkpoint_dir = os.path.dirname(checkpoint_path)\n",
    "cp_callback = tf.keras.callbacks.ModelCheckpoint(filepath=checkpoint_path, \n",
    "                                                 save_weights_only=True,\n",
    "                                                 verbose = 1)\n",
    "\n",
    "model.compile(optimizer='adam', loss='binary_crossentropy', metrics=['accuracy'])\n",
    "model.fit(X_train_scaled, y_train, epochs=50, batch_size=32, validation_split=0.1, callbacks=[cp_callback])"
   ]
  },
  {
   "cell_type": "code",
   "execution_count": 15,
   "id": "53a452fa-4eea-492a-bf5d-2cceeb5ab439",
   "metadata": {},
   "outputs": [
    {
     "name": "stdout",
     "output_type": "stream",
     "text": [
      "463/463 [==============================] - 1s 921us/step - loss: 0.3681 - accuracy: 0.8410\n",
      "Test loss: 0.3681, Test accuracy: 0.8410\n",
      "463/463 [==============================] - 0s 810us/step\n"
     ]
    },
    {
     "data": {
      "image/png": "[encoded data removed]",
      "text/plain": [
       "<Figure size 700x500 with 2 Axes>"
      ]
     },
     "metadata": {},
     "output_type": "display_data"
    }
   ],
   "source": [
    "# Evaluate the model on the test set\n",
    "loss, accuracy = model.evaluate(X_test_scaled, y_test)\n",
    "print(f'Test loss: {loss:.4f}, Test accuracy: {accuracy:.4f}')\n",
    "\n",
    "# Make predictions on the test set\n",
    "y_pred = model.predict(X_test_scaled)\n",
    "y_pred = np.round(y_pred)\n",
    "\n",
    "# Compute and print the confusion matrix\n",
    "plot_confusion_matrix(y_test, y_pred, ['Negative', 'Positive'])\n",
    "\n"
   ]
  },
  {
   "cell_type": "code",
   "execution_count": 10,
   "id": "433b3542-527e-49e7-abc2-c2e87f678696",
   "metadata": {},
   "outputs": [
    {
     "data": {
      "text/plain": [
       "[('time spent doing moderate physical activity', 0.18599382),\n",
       " ('BMI', 0.1835668),\n",
       " ('red blood cell count', 0.18210451),\n",
       " ('Illnesses of siblings', 0.18129109),\n",
       " ('time spent doing vigorous physical activity', 0.1709898),\n",
       " ('time spent doing light physical activity', 0.16796328),\n",
       " ('Systolic blood pressure', 0.16126539),\n",
       " ('Diastolic blood pressure', 0.16024078),\n",
       " ('white blood cell count', 0.15558656),\n",
       " ('Illnesses of father', 0.15230408),\n",
       " ('Pulse rate', 0.15167652),\n",
       " ('HDL cholesterol blood result', 0.14666791),\n",
       " ('LDL cholesterol blood result', 0.14257383),\n",
       " ('Illnesses of mother', 0.1283066)]"
      ]
     },
     "execution_count": 10,
     "metadata": {},
     "output_type": "execute_result"
    }
   ],
   "source": [
    "features = [feature for feature in X.columns]\n",
    "rank_features_by_importance(model, features)"
   ]
  },
  {
   "cell_type": "code",
   "execution_count": null,
   "id": "d2701ac8-834e-4955-8d1d-1f57feb70c71",
   "metadata": {},
   "outputs": [],
   "source": []
  }
 ],
 "metadata": {
  "kernelspec": {
   "display_name": "Python 3 (ipykernel)",
   "language": "python",
   "name": "python3"
  },
  "language_info": {
   "codemirror_mode": {
    "name": "ipython",
    "version": 3
   },
   "file_extension": ".py",
   "mimetype": "text/x-python",
   "name": "python",
   "nbconvert_exporter": "python",
   "pygments_lexer": "ipython3",
   "version": "3.10.7"
  }
 },
 "nbformat": 4,
 "nbformat_minor": 5
}
