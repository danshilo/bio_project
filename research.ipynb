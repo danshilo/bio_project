{
 "cells": [
  {
   "cell_type": "code",
   "execution_count": 1,
   "id": "7f587f46-58d4-461d-b18b-0f2089c82f0e",
   "metadata": {},
   "outputs": [
    {
     "name": "stderr",
     "output_type": "stream",
     "text": [
      "2023-09-05 12:41:03.572210: I tensorflow/tsl/cuda/cudart_stub.cc:28] Could not find cuda drivers on your machine, GPU will not be used.\n",
      "2023-09-05 12:41:03.625762: I tensorflow/tsl/cuda/cudart_stub.cc:28] Could not find cuda drivers on your machine, GPU will not be used.\n",
      "2023-09-05 12:41:03.627239: I tensorflow/core/platform/cpu_feature_guard.cc:182] This TensorFlow binary is optimized to use available CPU instructions in performance-critical operations.\n",
      "To enable the following instructions: AVX2 AVX512F FMA, in other operations, rebuild TensorFlow with the appropriate compiler flags.\n",
      "2023-09-05 12:41:04.695646: W tensorflow/compiler/tf2tensorrt/utils/py_utils.cc:38] TF-TRT Warning: Could not find TensorRT\n"
     ]
    }
   ],
   "source": [
    "import numpy as np\n",
    "import pandas as pd\n",
    "import tensorflow as tf\n",
    "import matplotlib.pyplot as plt\n",
    "from sklearn.model_selection import train_test_split\n",
    "from sklearn.preprocessing import StandardScaler\n",
    "from sklearn.metrics import confusion_matrix\n",
    "import seaborn as sns"
   ]
  },
  {
   "cell_type": "code",
   "execution_count": 2,
   "id": "f186c1d2-b9a4-4c65-9d7b-b0dfaf2ffdfa",
   "metadata": {},
   "outputs": [],
   "source": [
    "fields = ['eid', '34-0.0', '23104-0.0', '30740-0.0', '4079-0.0', '4080-0.0', '104920-0.0', '104910-0.0', '104900-0.0', \n",
    "        '104920-0.0', '104910-0.0', \n",
    "        '104900-0.0', '20107-0.0', '20110-0.0', '20111-0.0', \n",
    "        '30000-0.0', '30010-0.0', '4194-0.0', '30760-0.0', '30780-0.0', '130708-0.0']\n",
    "    \n",
    "ordered_cols = ['eid', 'Year-of-Birth', 'BMI', 'Glucose level', 'Systolic blood pressure', 'Diastolic blood pressure', 'time spent doing light physical activity', 'time spent doing moderate physical activity', \n",
    "        'time spent doing vigorous physical activity', 'Illnesses of father', 'Illnesses of mother', 'Illnesses of siblings',\n",
    "        'white blood cell count', 'red blood cell count', 'Pulse rate','HDL cholesterol blood result','LDL cholesterol blood result','Diabetes report date']\n",
    "\n",
    "ordered_cols_with_age = ['eid', 'Age', 'BMI', 'Glucose level', 'Systolic blood pressure', 'Diastolic blood pressure', 'time spent doing light physical activity', 'time spent doing moderate physical activity', \n",
    "        'time spent doing vigorous physical activity', 'Illnesses of father', 'Illnesses of mother', 'Illnesses of siblings',\n",
    "        'white blood cell count', 'red blood cell count', 'Pulse rate','HDL cholesterol blood result','LDL cholesterol blood result','Diabetes report date']\n",
    "\n",
    "ukb_fields = ['eid', '34-0.0', '4079-0.0', '4080-0.0',\n",
    "                 '4194-0.0', '20107-0.0', '20110-0.0', '20111-0.0', '23104-0.0', '30000-0.0', '30010-0.0',\n",
    "                 '30740-0.0', '30760-0.0', '30780-0.0',\n",
    "                 '104900-0.0', '104910-0.0', '104920-0.0', '130708-0.0']\n",
    "\n",
    "ukb_cols = ['eid', 'Year-of-Birth', 'Systolic blood pressure', 'Diastolic blood pressure',\n",
    "               'Pulse rate', 'Illnesses of father', 'Illnesses of mother', 'Illnesses of siblings', 'BMI', 'white blood cell count', 'red blood cell count',\n",
    "               'Glucose level', 'HDL cholesterol blood result', 'LDL cholesterol blood result',\n",
    "               'time spent doing vigorous physical activity', 'time spent doing moderate physical activity', 'time spent doing light physical activity', 'Diabetes report date']\n"
   ]
  },
  {
   "cell_type": "code",
   "execution_count": 3,
   "id": "fccb4fe8-6219-43d7-bdfa-fa53f09aedcd",
   "metadata": {},
   "outputs": [],
   "source": [
    "def create_plot(name, x_name, y_name, x_values, y_values, plot_type='vertical'):\n",
    "    \"\"\"\n",
    "    Creates a plot based on the given data.\n",
    "\n",
    "    Parameters:\n",
    "        x_name (str): Label for the x-axis.\n",
    "        y_name (str): Label for the y-axis.\n",
    "        x_values (list): List of values for the x-axis.\n",
    "        y_values (list): List of values for the y-axis.\n",
    "        plot_type (str, optional): Type of plot to create ('vertical', 'horizontal', or 'pie').\n",
    "                                   Default is 'vertical'.\n",
    "\n",
    "    Returns:\n",
    "        None\n",
    "    \"\"\"\n",
    "\n",
    "    if plot_type not in ['vertical', 'horizontal', 'pie']:\n",
    "        raise ValueError(\"Invalid plot type. Choose 'vertical', 'horizontal', or 'pie'.\")\n",
    "\n",
    "    if len(x_values) != len(y_values):\n",
    "        raise ValueError(\"The number of x_values and y_values must be the same.\")\n",
    "    bar_width = 0.3\n",
    "    if plot_type == 'vertical':\n",
    "        plt.bar(x_values, y_values, width=bar_width)\n",
    "        for i, value in enumerate(y_values):\n",
    "            plt.text(i, value, str(value), ha='center', va='bottom')\n",
    "        if(x_name != ''): plt.xlabel(x_name)\n",
    "        plt.ylabel(y_name)\n",
    "    elif plot_type == 'horizontal':\n",
    "        plt.barh(x_values, y_values, height=bar_width)\n",
    "        for i, value in enumerate(y_values):\n",
    "            plt.text(value, i, str(value), ha='left', va='center')\n",
    "        if(x_name != ''): plt.xlabel(y_name)\n",
    "        plt.ylabel(x_name)\n",
    "    elif plot_type == 'pie':\n",
    "        plt.pie(y_values, labels=x_values, autopct='%1.1f%%')\n",
    "        plt.axis('equal')\n",
    "        \n",
    "    plt.title(name)\n",
    "    plt.show()\n",
    "\n",
    "def plot_confusion_matrix(y_true, y_pred, labels, title=\"Confusion Matrix\"):\n",
    "    cm = confusion_matrix(y_true, y_pred)\n",
    "    cm = cm.astype('float') / cm.sum(axis=1)[:, np.newaxis]  # Normalize the confusion matrix\n",
    "\n",
    "    plt.figure(figsize=(7, 5))\n",
    "    sns.heatmap(cm, annot=True, fmt=\".2f\", cmap=\"Blues\", linewidths=0.5, xticklabels=labels, yticklabels=labels)\n",
    "    plt.xlabel('Predicted labels')\n",
    "    plt.ylabel('True labels')\n",
    "    plt.title(title)\n",
    "    plt.show()\n",
    "\n",
    "def rank_features_by_importance(model, feature_names):\n",
    "    # Get the feature importance scores from the first layer of the neural network\n",
    "    feature_importance_scores = model.layers[1].get_weights()[0]\n",
    "    \n",
    "    # Calculate the absolute importance scores\n",
    "    absolute_importance_scores = np.abs(feature_importance_scores)\n",
    "    \n",
    "    # Calculate the average importance score for each feature across all neurons in the first layer\n",
    "    average_importance_scores = np.mean(absolute_importance_scores, axis=0)\n",
    "    \n",
    "    # Create a dictionary to map feature names to their importance scores\n",
    "    feature_importance_dict = dict(zip(feature_names, average_importance_scores))\n",
    "    \n",
    "    # Sort the features based on their importance scores in descending order\n",
    "    ranked_features = sorted(feature_importance_dict.items(), key=lambda x: x[1], reverse=True)\n",
    "    \n",
    "    return ranked_features"
   ]
  },
  {
   "cell_type": "code",
   "execution_count": null,
   "id": "a68c4bea-5a62-4c2d-95a3-a52d084648a5",
   "metadata": {},
   "outputs": [],
   "source": [
    "ukbfile = 'biobank/ukb672220.csv' "
   ]
  },
  {
   "cell_type": "code",
   "execution_count": 6,
   "id": "f45a1b7c-9d6a-47c1-885c-82053c2e9143",
   "metadata": {},
   "outputs": [],
   "source": [
    "df_file = 'initial_dataset_with_all_fields.csv'"
   ]
  },
  {
   "cell_type": "code",
   "execution_count": null,
   "id": "48f4a2cc-25c1-4dbe-8317-267e11111632",
   "metadata": {},
   "outputs": [],
   "source": [
    "family_df_file = 'family.csv'"
   ]
  },
  {
   "cell_type": "code",
   "execution_count": null,
   "id": "159911f9-39a0-4199-85f7-291bca37b6f6",
   "metadata": {},
   "outputs": [],
   "source": [
    "    chunk_size = 10 ** 3\n",
    "    df = pd.read_csv(ukbfile, usecols=sorted_fields, chunksize = chunk_size)\n",
    "    header = sorted_cols\n",
    "    for chunk in df:\n",
    "        chunk.to_csv(df_file, header=header, mode='a', index=False)\n",
    "        header = False"
   ]
  },
  {
   "cell_type": "code",
   "execution_count": null,
   "id": "c0c9ae44-098e-4439-9d67-134b70ba5cc9",
   "metadata": {},
   "outputs": [],
   "source": [
    "    lst = ['eid']\n",
    "    base1='20107-'\n",
    "    base2='20110-'\n",
    "    base3='20111-'\n",
    "    for num in range(1, 40):\n",
    "        decimal_num = num / 10.0\n",
    "        lst.append(f'{base1}{decimal_num:.1f}')\n",
    "        lst.append(f'{base2}{decimal_num:.1f}')\n",
    "        lst.append(f'{base3}{decimal_num:.1f}')\n",
    "        chunk_size = 10 ** 3\n",
    "    chunk_size = 10 ** 3\n",
    "    df = pd.read_csv(ukbfile, usecols=lst, chunksize = chunk_size)\n",
    "    header = True\n",
    "    for chunk in df:\n",
    "        chunk.to_csv(family_df_file, header=header, mode='a', index=False)\n",
    "        header = False"
   ]
  },
  {
   "cell_type": "code",
   "execution_count": null,
   "id": "8b9f4e2f-c7a7-40f3-b24a-1c99e879b3fa",
   "metadata": {},
   "outputs": [],
   "source": [
    "def transform_illness(df, field_name):\n",
    "    df[field_name].where(df[field_name] == 9, other=0, inplace=True) # changes value to 0 if field isn't diabetes\n",
    "    df[field_name].where(df[field_name] == 0, other=1, inplace=True) # changes value to 1 if the field is diabetes \n",
    "    df[field_name] = df[field_name].fillna(0) # changes value to 0 if missing"
   ]
  },
  {
   "cell_type": "code",
   "execution_count": null,
   "id": "27c0e81e-1f68-4d32-9657-17e3afae8e27",
   "metadata": {},
   "outputs": [],
   "source": [
    "def transform_activity(df, field_name):\n",
    "    df[field_name].where(df[field_name] != 10, other=1, inplace=True)\n",
    "    df[field_name].where(df[field_name] != 1030, other=5, inplace=True)\n",
    "    df[field_name].where(df[field_name] != 3060, other=9, inplace=True)"
   ]
  },
  {
   "cell_type": "code",
   "execution_count": null,
   "id": "c3f31e9b-fd2d-49e0-b6ed-b3ad1720439a",
   "metadata": {},
   "outputs": [],
   "source": [
    "def modify_illness_list(df, field_name, other_field_name):\n",
    "\n",
    "    transform_illness(df, other_field_name)\n",
    "\n",
    "    filter1 = df[field_name]==0\n",
    "    filter2 = df[other_field_name]==0\n",
    "\n",
    "    df[field_name].where(filter1 & filter2, other=1, inplace=True) # value is 1 if it's 1 in one of those fields.\n",
    "    df.drop([other_field_name], axis=1, inplace=True)"
   ]
  },
  {
   "cell_type": "code",
   "execution_count": 33,
   "id": "f2380759-b1c7-41d6-a727-93542ed9adfa",
   "metadata": {},
   "outputs": [],
   "source": [
    "# read data\n",
    "df = pd.read_csv(df_file)"
   ]
  },
  {
   "cell_type": "code",
   "execution_count": 34,
   "id": "e8fb7b34-68dc-4165-b156-0c9e9aabd117",
   "metadata": {},
   "outputs": [],
   "source": [
    "# rearange the columns\n",
    "df = df[ordered_cols]"
   ]
  },
  {
   "cell_type": "code",
   "execution_count": 35,
   "id": "cf919d04-f3d9-416e-bfa9-3e8892c71055",
   "metadata": {},
   "outputs": [],
   "source": [
    "# calculate age\n",
    "df['Age'] = 2023 - df['Year-of-Birth']\n",
    "df = df.drop(['Year-of-Birth'], axis=1)\n",
    "df = df[ordered_cols_with_age]"
   ]
  },
  {
   "cell_type": "code",
   "execution_count": 37,
   "id": "9f137bcb-ef8d-4ed6-8afe-52308fc2927b",
   "metadata": {},
   "outputs": [],
   "source": [
    "# transform family illnesess\n",
    "transform_illness(df, 'Illnesses of father')\n",
    "transform_illness(df, 'Illnesses of mother')\n",
    "transform_illness(df, 'Illnesses of siblings')\n",
    "other_df = pd.read_csv('family.csv')\n",
    "df = df.merge(right=other_df, how='left', on='eid')\n",
    "for num in range(1, 40):\n",
    "    decimal_num = num / 10.0\n",
    "    modify_illness_list(df, 'Illnesses of father', f'20107-{decimal_num:.1f}')\n",
    "    modify_illness_list(df, 'Illnesses of mother', f'20110-{decimal_num:.1f}')\n",
    "    modify_illness_list(df, 'Illnesses of siblings', f'20111-{decimal_num:.1f}')"
   ]
  },
  {
   "cell_type": "code",
   "execution_count": 38,
   "id": "98015d94-f7f8-46eb-88f8-6cbf2c5eff70",
   "metadata": {},
   "outputs": [],
   "source": [
    "# resolve missing numeric parameters\n",
    "fields_to_mean = ['BMI',\n",
    "                  'Glucose level',\n",
    "                  'Systolic blood pressure',\n",
    "                  'Diastolic blood pressure', \n",
    "                  'Pulse rate',\n",
    "                  'HDL cholesterol blood result', \n",
    "                  'LDL cholesterol blood result',\n",
    "                  'white blood cell count',\n",
    "                  'red blood cell count'\n",
    "                 ]\n",
    "df[fields_to_mean] = df[fields_to_mean].fillna(df[fields_to_mean].mean())"
   ]
  },
  {
   "cell_type": "code",
   "execution_count": null,
   "id": "b99d167d-e706-4b0c-8b7c-fa573f136c06",
   "metadata": {},
   "outputs": [],
   "source": [
    "# transform the moderate/vigorous activity data\n",
    "transform_activity(df, 'time spent doing moderate physical activity')\n",
    "transform_activity(df, 'time spent doing vigorous physical activity')"
   ]
  },
  {
   "cell_type": "code",
   "execution_count": 39,
   "id": "aedcf363-5d0f-4306-ba45-4a3f56e0a4f3",
   "metadata": {},
   "outputs": [],
   "source": [
    "# resolve missing catagorial parameters\n",
    "fields_to_median = ['Age', 'time spent doing light physical activity', 'time spent doing moderate physical activity', 'time spent doing vigorous physical activity']\n",
    "df[fields_to_median] = df[fields_to_median].fillna(df[fields_to_median].median())"
   ]
  },
  {
   "cell_type": "code",
   "execution_count": 40,
   "id": "773b4524-5368-45bb-95d2-5d829e13575c",
   "metadata": {},
   "outputs": [],
   "source": [
    "# resolve label\n",
    "df[\"Diabetes report date\"] = df[\"Diabetes report date\"].fillna(0) # if there is no date, the person doesn't have diabetes.\n",
    "df['Diabetes report date'].where(df['Diabetes report date'] == 0, other=1, inplace=True) # if there is a date, replace it with 1.\n",
    "df.rename(columns={\"Diabetes report date\": \"diabetes diagnosed\"}, inplace=True)"
   ]
  },
  {
   "cell_type": "raw",
   "id": "5bc9130c-8eaa-412d-a5aa-3411f39c4af8",
   "metadata": {},
   "source": [
    "data is ready!"
   ]
  },
  {
   "cell_type": "code",
   "execution_count": 41,
   "id": "f3ea053c-8c86-4378-a2d9-9126686c7347",
   "metadata": {},
   "outputs": [],
   "source": [
    "# save df to csv\n",
    "df.to_csv('processed_data.csv', index=False)"
   ]
  },
  {
   "cell_type": "code",
   "execution_count": 4,
   "id": "51e40b7d-c4de-471f-932d-b8a41c8060b3",
   "metadata": {},
   "outputs": [
    {
     "name": "stdout",
     "output_type": "stream",
     "text": [
      "502370\n",
      "455764\n",
      "healthy people percent = 0.9072%\n",
      "num_to_keep = 45576\n",
      "healthy people percent = 0.4944%\n",
      "sick people percent = 0.5056%\n",
      "df.shape = 92182\n"
     ]
    }
   ],
   "source": [
    "# load data\n",
    "df = pd.read_csv('processed_data.csv')\n",
    "\n",
    "negative_indices = df[df['diabetes diagnosed']==0].index\n",
    "positive_indices = df[df['diabetes diagnosed']==1].index\n",
    "\n",
    "print(df.shape[0])\n",
    "print(len(negative_indices))\n",
    "print(f'healthy people percent = {(len(negative_indices) / df.shape[0]):.4f}%')\n",
    "\n",
    "num_to_keep = int(len(negative_indices) * 1 / 10)\n",
    "\n",
    "print(f'num_to_keep = {num_to_keep}')\n",
    "\n",
    "random_negative_indices = np.random.choice(negative_indices, num_to_keep, replace=False)\n",
    "selected_indices = np.concatenate((positive_indices, random_negative_indices))\n",
    "df = df.loc[selected_indices]\n",
    "\n",
    "negative_indices = df[df['diabetes diagnosed']==0].index\n",
    "positive_indices = df[df['diabetes diagnosed']==1].index\n",
    "\n",
    "print(f'healthy people percent = {(len(negative_indices) / df.shape[0]):.4f}%')\n",
    "print(f'sick people percent = {(len(positive_indices) / df.shape[0]):.4f}%')\n",
    "print(f'df.shape = {df.shape[0]}')"
   ]
  },
  {
   "cell_type": "code",
   "execution_count": 5,
   "id": "27895ec6-276b-4ee1-a5b4-d0a64ae726ed",
   "metadata": {},
   "outputs": [
    {
     "name": "stdout",
     "output_type": "stream",
     "text": [
      "sick mean age: 74.40142900055787\n",
      "sick min age: 53.0\n",
      "sick max age: 87.0\n",
      "sick unique values: [80. 75. 82. 68. 72. 70. 81. 66. 74. 76. 69. 55. 85. 62. 83. 64. 84. 65.\n",
      " 73. 57. 67. 79. 77. 78. 58. 54. 71. 63. 59. 61. 60. 86. 56. 87. 53.]\n",
      "\n",
      "healthy mean age: 71.14292610145691\n",
      "healthy min age: 53.0\n",
      "healthy max age: 87.0\n",
      "healthy unique values: [81. 76. 72. 84. 73. 61. 56. 79. 65. 70. 75. 74. 82. 71. 62. 83. 78. 77.\n",
      " 80. 59. 66. 67. 69. 57. 68. 64. 63. 85. 60. 58. 55. 87. 54. 86. 53.]\n"
     ]
    },
    {
     "data": {
      "image/png": "[encoded data removed]",
      "text/plain": [
       "<Figure size 640x480 with 1 Axes>"
      ]
     },
     "metadata": {},
     "output_type": "display_data"
    }
   ],
   "source": [
    "sick = df.loc[df['diabetes diagnosed']==1]\n",
    "print(f\"sick mean age: {sick['Age'].mean()}\")\n",
    "print(f\"sick min age: {sick['Age'].min()}\")\n",
    "print(f\"sick max age: {sick['Age'].max()}\")\n",
    "print(f\"sick unique values: {sick['Age'].unique()}\\n\")\n",
    "\n",
    "healthy = df.loc[df['diabetes diagnosed']==0]\n",
    "print(f\"healthy mean age: {healthy['Age'].mean()}\")\n",
    "print(f\"healthy min age: {healthy['Age'].min()}\")\n",
    "print(f\"healthy max age: {healthy['Age'].max()}\")\n",
    "print(f\"healthy unique values: {healthy['Age'].unique()}\")\n",
    "\n",
    "num_positive = len(positive_indices)\n",
    "num_negative = len(negative_indices)\n",
    "\n",
    "create_plot('Type 2 Diabetes Diagnosed', '', '(thousands)', ['No', 'Yes'], [num_positive, num_negative], 'vertical')"
   ]
  },
  {
   "cell_type": "code",
   "execution_count": 7,
   "id": "8b30830c-616a-4f0b-a520-a5736b9ce7e2",
   "metadata": {},
   "outputs": [],
   "source": [
    "# split the data into train and test\n",
    "X = df.drop(columns=['eid', 'Age', 'diabetes diagnosed'])\n",
    "#X = df.drop(columns=['Glucose level'])\n",
    "y = df['diabetes diagnosed']\n",
    "X_train, X_test, y_train, y_test = train_test_split(X, y, test_size=0.2, random_state=42)\n",
    "\n",
    "scaler = StandardScaler()\n",
    "X_train_scaled = scaler.fit_transform(X_train)\n",
    "X_test_scaled = scaler.transform(X_test)"
   ]
  },
  {
   "cell_type": "code",
   "execution_count": 8,
   "id": "99bbaee6-539e-4325-ba60-d6fa12f09e70",
   "metadata": {},
   "outputs": [
    {
     "name": "stdout",
     "output_type": "stream",
     "text": [
      "Epoch 1/50\n",
      "2066/2075 [============================>.] - ETA: 0s - loss: 0.4853 - accuracy: 0.7650\n",
      "Epoch 1: saving model to training_4/cp.ckpt\n",
      "2075/2075 [==============================] - 4s 2ms/step - loss: 0.4855 - accuracy: 0.7649 - val_loss: 0.4756 - val_accuracy: 0.7738\n",
      "Epoch 2/50\n",
      "2073/2075 [============================>.] - ETA: 0s - loss: 0.4742 - accuracy: 0.7715\n",
      "Epoch 2: saving model to training_4/cp.ckpt\n",
      "2075/2075 [==============================] - 3s 1ms/step - loss: 0.4741 - accuracy: 0.7715 - val_loss: 0.4777 - val_accuracy: 0.7768\n",
      "Epoch 3/50\n",
      "2050/2075 [============================>.] - ETA: 0s - loss: 0.4724 - accuracy: 0.7725\n",
      "Epoch 3: saving model to training_4/cp.ckpt\n",
      "2075/2075 [==============================] - 3s 1ms/step - loss: 0.4719 - accuracy: 0.7728 - val_loss: 0.4714 - val_accuracy: 0.7783\n",
      "Epoch 4/50\n",
      "2068/2075 [============================>.] - ETA: 0s - loss: 0.4692 - accuracy: 0.7725\n",
      "Epoch 4: saving model to training_4/cp.ckpt\n",
      "2075/2075 [==============================] - 3s 1ms/step - loss: 0.4694 - accuracy: 0.7724 - val_loss: 0.4691 - val_accuracy: 0.7779\n",
      "Epoch 5/50\n",
      "2036/2075 [============================>.] - ETA: 0s - loss: 0.4689 - accuracy: 0.7729\n",
      "Epoch 5: saving model to training_4/cp.ckpt\n",
      "2075/2075 [==============================] - 3s 1ms/step - loss: 0.4685 - accuracy: 0.7734 - val_loss: 0.4654 - val_accuracy: 0.7772\n",
      "Epoch 6/50\n",
      "2060/2075 [============================>.] - ETA: 0s - loss: 0.4668 - accuracy: 0.7752\n",
      "Epoch 6: saving model to training_4/cp.ckpt\n",
      "2075/2075 [==============================] - 3s 1ms/step - loss: 0.4665 - accuracy: 0.7753 - val_loss: 0.4663 - val_accuracy: 0.7765\n",
      "Epoch 7/50\n",
      "2075/2075 [==============================] - ETA: 0s - loss: 0.4649 - accuracy: 0.7746\n",
      "Epoch 7: saving model to training_4/cp.ckpt\n",
      "2075/2075 [==============================] - 3s 1ms/step - loss: 0.4649 - accuracy: 0.7746 - val_loss: 0.4635 - val_accuracy: 0.7820\n",
      "Epoch 8/50\n",
      "2058/2075 [============================>.] - ETA: 0s - loss: 0.4638 - accuracy: 0.7761\n",
      "Epoch 8: saving model to training_4/cp.ckpt\n",
      "2075/2075 [==============================] - 3s 1ms/step - loss: 0.4640 - accuracy: 0.7760 - val_loss: 0.4668 - val_accuracy: 0.7779\n",
      "Epoch 9/50\n",
      "2054/2075 [============================>.] - ETA: 0s - loss: 0.4629 - accuracy: 0.7772\n",
      "Epoch 9: saving model to training_4/cp.ckpt\n",
      "2075/2075 [==============================] - 3s 1ms/step - loss: 0.4630 - accuracy: 0.7771 - val_loss: 0.4634 - val_accuracy: 0.7793\n",
      "Epoch 10/50\n",
      "2071/2075 [============================>.] - ETA: 0s - loss: 0.4618 - accuracy: 0.7776\n",
      "Epoch 10: saving model to training_4/cp.ckpt\n",
      "2075/2075 [==============================] - 3s 1ms/step - loss: 0.4617 - accuracy: 0.7776 - val_loss: 0.4647 - val_accuracy: 0.7768\n",
      "Epoch 11/50\n",
      "2073/2075 [============================>.] - ETA: 0s - loss: 0.4610 - accuracy: 0.7787\n",
      "Epoch 11: saving model to training_4/cp.ckpt\n",
      "2075/2075 [==============================] - 3s 1ms/step - loss: 0.4611 - accuracy: 0.7787 - val_loss: 0.4650 - val_accuracy: 0.7751\n",
      "Epoch 12/50\n",
      "2074/2075 [============================>.] - ETA: 0s - loss: 0.4602 - accuracy: 0.7781\n",
      "Epoch 12: saving model to training_4/cp.ckpt\n",
      "2075/2075 [==============================] - 3s 1ms/step - loss: 0.4602 - accuracy: 0.7781 - val_loss: 0.4636 - val_accuracy: 0.7775\n",
      "Epoch 13/50\n",
      "2059/2075 [============================>.] - ETA: 0s - loss: 0.4593 - accuracy: 0.7795\n",
      "Epoch 13: saving model to training_4/cp.ckpt\n",
      "2075/2075 [==============================] - 3s 1ms/step - loss: 0.4593 - accuracy: 0.7796 - val_loss: 0.4651 - val_accuracy: 0.7746\n",
      "Epoch 14/50\n",
      "2041/2075 [============================>.] - ETA: 0s - loss: 0.4586 - accuracy: 0.7799\n",
      "Epoch 14: saving model to training_4/cp.ckpt\n",
      "2075/2075 [==============================] - 3s 1ms/step - loss: 0.4583 - accuracy: 0.7801 - val_loss: 0.4619 - val_accuracy: 0.7778\n",
      "Epoch 15/50\n",
      "2068/2075 [============================>.] - ETA: 0s - loss: 0.4578 - accuracy: 0.7801\n",
      "Epoch 15: saving model to training_4/cp.ckpt\n",
      "2075/2075 [==============================] - 3s 1ms/step - loss: 0.4579 - accuracy: 0.7800 - val_loss: 0.4661 - val_accuracy: 0.7765\n",
      "Epoch 16/50\n",
      "2065/2075 [============================>.] - ETA: 0s - loss: 0.4572 - accuracy: 0.7803\n",
      "Epoch 16: saving model to training_4/cp.ckpt\n",
      "2075/2075 [==============================] - 3s 1ms/step - loss: 0.4572 - accuracy: 0.7804 - val_loss: 0.4637 - val_accuracy: 0.7802\n",
      "Epoch 17/50\n",
      "2071/2075 [============================>.] - ETA: 0s - loss: 0.4567 - accuracy: 0.7805\n",
      "Epoch 17: saving model to training_4/cp.ckpt\n",
      "2075/2075 [==============================] - 3s 1ms/step - loss: 0.4566 - accuracy: 0.7805 - val_loss: 0.4629 - val_accuracy: 0.7793\n",
      "Epoch 18/50\n",
      "2055/2075 [============================>.] - ETA: 0s - loss: 0.4558 - accuracy: 0.7812\n",
      "Epoch 18: saving model to training_4/cp.ckpt\n",
      "2075/2075 [==============================] - 3s 1ms/step - loss: 0.4559 - accuracy: 0.7812 - val_loss: 0.4659 - val_accuracy: 0.7772\n",
      "Epoch 19/50\n",
      "2070/2075 [============================>.] - ETA: 0s - loss: 0.4557 - accuracy: 0.7814\n",
      "Epoch 19: saving model to training_4/cp.ckpt\n",
      "2075/2075 [==============================] - 3s 1ms/step - loss: 0.4557 - accuracy: 0.7814 - val_loss: 0.4666 - val_accuracy: 0.7761\n",
      "Epoch 20/50\n",
      "2049/2075 [============================>.] - ETA: 0s - loss: 0.4551 - accuracy: 0.7823\n",
      "Epoch 20: saving model to training_4/cp.ckpt\n",
      "2075/2075 [==============================] - 3s 1ms/step - loss: 0.4551 - accuracy: 0.7823 - val_loss: 0.4635 - val_accuracy: 0.7790\n",
      "Epoch 21/50\n",
      "2072/2075 [============================>.] - ETA: 0s - loss: 0.4548 - accuracy: 0.7812\n",
      "Epoch 21: saving model to training_4/cp.ckpt\n",
      "2075/2075 [==============================] - 3s 1ms/step - loss: 0.4548 - accuracy: 0.7812 - val_loss: 0.4664 - val_accuracy: 0.7764\n",
      "Epoch 22/50\n",
      "2067/2075 [============================>.] - ETA: 0s - loss: 0.4539 - accuracy: 0.7831\n",
      "Epoch 22: saving model to training_4/cp.ckpt\n",
      "2075/2075 [==============================] - 3s 1ms/step - loss: 0.4540 - accuracy: 0.7832 - val_loss: 0.4662 - val_accuracy: 0.7776\n",
      "Epoch 23/50\n",
      "2074/2075 [============================>.] - ETA: 0s - loss: 0.4534 - accuracy: 0.7825\n",
      "Epoch 23: saving model to training_4/cp.ckpt\n",
      "2075/2075 [==============================] - 3s 1ms/step - loss: 0.4534 - accuracy: 0.7825 - val_loss: 0.4659 - val_accuracy: 0.7734\n",
      "Epoch 24/50\n",
      "2042/2075 [============================>.] - ETA: 0s - loss: 0.4540 - accuracy: 0.7822\n",
      "Epoch 24: saving model to training_4/cp.ckpt\n",
      "2075/2075 [==============================] - 3s 1ms/step - loss: 0.4538 - accuracy: 0.7824 - val_loss: 0.4644 - val_accuracy: 0.7746\n",
      "Epoch 25/50\n",
      "2067/2075 [============================>.] - ETA: 0s - loss: 0.4522 - accuracy: 0.7834\n",
      "Epoch 25: saving model to training_4/cp.ckpt\n",
      "2075/2075 [==============================] - 3s 1ms/step - loss: 0.4525 - accuracy: 0.7833 - val_loss: 0.4675 - val_accuracy: 0.7748\n",
      "Epoch 26/50\n",
      "2047/2075 [============================>.] - ETA: 0s - loss: 0.4527 - accuracy: 0.7832\n",
      "Epoch 26: saving model to training_4/cp.ckpt\n",
      "2075/2075 [==============================] - 3s 1ms/step - loss: 0.4526 - accuracy: 0.7831 - val_loss: 0.4664 - val_accuracy: 0.7746\n",
      "Epoch 27/50\n",
      "2048/2075 [============================>.] - ETA: 0s - loss: 0.4519 - accuracy: 0.7839\n",
      "Epoch 27: saving model to training_4/cp.ckpt\n",
      "2075/2075 [==============================] - 3s 1ms/step - loss: 0.4521 - accuracy: 0.7837 - val_loss: 0.4663 - val_accuracy: 0.7745\n",
      "Epoch 28/50\n",
      "2073/2075 [============================>.] - ETA: 0s - loss: 0.4516 - accuracy: 0.7828\n",
      "Epoch 28: saving model to training_4/cp.ckpt\n",
      "2075/2075 [==============================] - 3s 1ms/step - loss: 0.4516 - accuracy: 0.7828 - val_loss: 0.4644 - val_accuracy: 0.7752\n",
      "Epoch 29/50\n",
      "2066/2075 [============================>.] - ETA: 0s - loss: 0.4513 - accuracy: 0.7848\n",
      "Epoch 29: saving model to training_4/cp.ckpt\n",
      "2075/2075 [==============================] - 3s 1ms/step - loss: 0.4513 - accuracy: 0.7848 - val_loss: 0.4669 - val_accuracy: 0.7779\n",
      "Epoch 30/50\n",
      "2042/2075 [============================>.] - ETA: 0s - loss: 0.4511 - accuracy: 0.7849\n",
      "Epoch 30: saving model to training_4/cp.ckpt\n",
      "2075/2075 [==============================] - 4s 2ms/step - loss: 0.4508 - accuracy: 0.7850 - val_loss: 0.4659 - val_accuracy: 0.7760\n",
      "Epoch 31/50\n",
      "2043/2075 [============================>.] - ETA: 0s - loss: 0.4503 - accuracy: 0.7848\n",
      "Epoch 31: saving model to training_4/cp.ckpt\n",
      "2075/2075 [==============================] - 3s 2ms/step - loss: 0.4508 - accuracy: 0.7847 - val_loss: 0.4659 - val_accuracy: 0.7769\n",
      "Epoch 32/50\n",
      "2044/2075 [============================>.] - ETA: 0s - loss: 0.4499 - accuracy: 0.7848\n",
      "Epoch 32: saving model to training_4/cp.ckpt\n",
      "2075/2075 [==============================] - 3s 1ms/step - loss: 0.4501 - accuracy: 0.7847 - val_loss: 0.4672 - val_accuracy: 0.7745\n",
      "Epoch 33/50\n",
      "2050/2075 [============================>.] - ETA: 0s - loss: 0.4489 - accuracy: 0.7855\n",
      "Epoch 33: saving model to training_4/cp.ckpt\n",
      "2075/2075 [==============================] - 3s 2ms/step - loss: 0.4493 - accuracy: 0.7854 - val_loss: 0.4683 - val_accuracy: 0.7734\n",
      "Epoch 34/50\n",
      "2072/2075 [============================>.] - ETA: 0s - loss: 0.4496 - accuracy: 0.7854\n",
      "Epoch 34: saving model to training_4/cp.ckpt\n",
      "2075/2075 [==============================] - 3s 2ms/step - loss: 0.4496 - accuracy: 0.7854 - val_loss: 0.4653 - val_accuracy: 0.7768\n",
      "Epoch 35/50\n",
      "2051/2075 [============================>.] - ETA: 0s - loss: 0.4489 - accuracy: 0.7857\n",
      "Epoch 35: saving model to training_4/cp.ckpt\n",
      "2075/2075 [==============================] - 3s 2ms/step - loss: 0.4489 - accuracy: 0.7858 - val_loss: 0.4679 - val_accuracy: 0.7733\n",
      "Epoch 36/50\n",
      "2067/2075 [============================>.] - ETA: 0s - loss: 0.4489 - accuracy: 0.7856\n",
      "Epoch 36: saving model to training_4/cp.ckpt\n",
      "2075/2075 [==============================] - 3s 2ms/step - loss: 0.4489 - accuracy: 0.7856 - val_loss: 0.4651 - val_accuracy: 0.7802\n",
      "Epoch 37/50\n",
      "2066/2075 [============================>.] - ETA: 0s - loss: 0.4482 - accuracy: 0.7864\n",
      "Epoch 37: saving model to training_4/cp.ckpt\n",
      "2075/2075 [==============================] - 3s 2ms/step - loss: 0.4479 - accuracy: 0.7866 - val_loss: 0.4668 - val_accuracy: 0.7782\n",
      "Epoch 38/50\n",
      "2039/2075 [============================>.] - ETA: 0s - loss: 0.4480 - accuracy: 0.7872\n",
      "Epoch 38: saving model to training_4/cp.ckpt\n",
      "2075/2075 [==============================] - 3s 2ms/step - loss: 0.4482 - accuracy: 0.7869 - val_loss: 0.4685 - val_accuracy: 0.7740\n",
      "Epoch 39/50\n",
      "2046/2075 [============================>.] - ETA: 0s - loss: 0.4478 - accuracy: 0.7872\n",
      "Epoch 39: saving model to training_4/cp.ckpt\n",
      "2075/2075 [==============================] - 3s 1ms/step - loss: 0.4475 - accuracy: 0.7875 - val_loss: 0.4694 - val_accuracy: 0.7765\n",
      "Epoch 40/50\n",
      "2062/2075 [============================>.] - ETA: 0s - loss: 0.4473 - accuracy: 0.7879\n",
      "Epoch 40: saving model to training_4/cp.ckpt\n",
      "2075/2075 [==============================] - 3s 1ms/step - loss: 0.4471 - accuracy: 0.7881 - val_loss: 0.4686 - val_accuracy: 0.7727\n",
      "Epoch 41/50\n",
      "2067/2075 [============================>.] - ETA: 0s - loss: 0.4469 - accuracy: 0.7871\n",
      "Epoch 41: saving model to training_4/cp.ckpt\n",
      "2075/2075 [==============================] - 3s 1ms/step - loss: 0.4470 - accuracy: 0.7871 - val_loss: 0.4684 - val_accuracy: 0.7756\n",
      "Epoch 42/50\n",
      "2063/2075 [============================>.] - ETA: 0s - loss: 0.4468 - accuracy: 0.7882\n",
      "Epoch 42: saving model to training_4/cp.ckpt\n",
      "2075/2075 [==============================] - 3s 1ms/step - loss: 0.4471 - accuracy: 0.7881 - val_loss: 0.4685 - val_accuracy: 0.7757\n",
      "Epoch 43/50\n",
      "2059/2075 [============================>.] - ETA: 0s - loss: 0.4470 - accuracy: 0.7867\n",
      "Epoch 43: saving model to training_4/cp.ckpt\n",
      "2075/2075 [==============================] - 3s 1ms/step - loss: 0.4467 - accuracy: 0.7868 - val_loss: 0.4668 - val_accuracy: 0.7763\n",
      "Epoch 44/50\n",
      "2041/2075 [============================>.] - ETA: 0s - loss: 0.4451 - accuracy: 0.7884\n",
      "Epoch 44: saving model to training_4/cp.ckpt\n",
      "2075/2075 [==============================] - 3s 1ms/step - loss: 0.4461 - accuracy: 0.7881 - val_loss: 0.4714 - val_accuracy: 0.7737\n",
      "Epoch 45/50\n",
      "2044/2075 [============================>.] - ETA: 0s - loss: 0.4460 - accuracy: 0.7877\n",
      "Epoch 45: saving model to training_4/cp.ckpt\n",
      "2075/2075 [==============================] - 3s 1ms/step - loss: 0.4457 - accuracy: 0.7879 - val_loss: 0.4670 - val_accuracy: 0.7749\n",
      "Epoch 46/50\n",
      "2072/2075 [============================>.] - ETA: 0s - loss: 0.4454 - accuracy: 0.7878\n",
      "Epoch 46: saving model to training_4/cp.ckpt\n",
      "2075/2075 [==============================] - 3s 1ms/step - loss: 0.4455 - accuracy: 0.7878 - val_loss: 0.4667 - val_accuracy: 0.7746\n",
      "Epoch 47/50\n",
      "2052/2075 [============================>.] - ETA: 0s - loss: 0.4454 - accuracy: 0.7877\n",
      "Epoch 47: saving model to training_4/cp.ckpt\n",
      "2075/2075 [==============================] - 3s 1ms/step - loss: 0.4456 - accuracy: 0.7876 - val_loss: 0.4702 - val_accuracy: 0.7744\n",
      "Epoch 48/50\n",
      "2058/2075 [============================>.] - ETA: 0s - loss: 0.4455 - accuracy: 0.7899\n",
      "Epoch 48: saving model to training_4/cp.ckpt\n",
      "2075/2075 [==============================] - 3s 1ms/step - loss: 0.4452 - accuracy: 0.7900 - val_loss: 0.4689 - val_accuracy: 0.7768\n",
      "Epoch 49/50\n",
      "2055/2075 [============================>.] - ETA: 0s - loss: 0.4451 - accuracy: 0.7886\n",
      "Epoch 49: saving model to training_4/cp.ckpt\n",
      "2075/2075 [==============================] - 3s 1ms/step - loss: 0.4451 - accuracy: 0.7885 - val_loss: 0.4696 - val_accuracy: 0.7749\n",
      "Epoch 50/50\n",
      "2067/2075 [============================>.] - ETA: 0s - loss: 0.4441 - accuracy: 0.7893\n",
      "Epoch 50: saving model to training_4/cp.ckpt\n",
      "2075/2075 [==============================] - 3s 1ms/step - loss: 0.4442 - accuracy: 0.7893 - val_loss: 0.4712 - val_accuracy: 0.7748\n"
     ]
    },
    {
     "data": {
      "text/plain": [
       "<keras.src.callbacks.History at 0x7f9cfee906d0>"
      ]
     },
     "execution_count": 8,
     "metadata": {},
     "output_type": "execute_result"
    }
   ],
   "source": [
    "# create and train the neural network model\n",
    "model = tf.keras.models.Sequential([\n",
    "    tf.keras.layers.Dense(64, activation='relu', input_shape=(X_train_scaled.shape[1],)),\n",
    "    tf.keras.layers.Dense(32, activation='relu'),\n",
    "    tf.keras.layers.Dense(1, activation='sigmoid')\n",
    "])\n",
    "\n",
    "# define a checkpoint to save the model's weights\n",
    "import os\n",
    "checkpoint_path = 'training_4/cp.ckpt'\n",
    "checkpoint_dir = os.path.dirname(checkpoint_path)\n",
    "cp_callback = tf.keras.callbacks.ModelCheckpoint(filepath=checkpoint_path, \n",
    "                                                 save_weights_only=True,\n",
    "                                                 verbose = 1)\n",
    "\n",
    "model.compile(optimizer='adam', loss='binary_crossentropy', metrics=['accuracy'])\n",
    "model.fit(X_train_scaled, y_train, epochs=50, batch_size=32, validation_split=0.1, callbacks=[cp_callback])"
   ]
  },
  {
   "cell_type": "code",
   "execution_count": 9,
   "id": "53a452fa-4eea-492a-bf5d-2cceeb5ab439",
   "metadata": {},
   "outputs": [
    {
     "name": "stdout",
     "output_type": "stream",
     "text": [
      "577/577 [==============================] - 1s 2ms/step - loss: 0.4782 - accuracy: 0.7730\n",
      "Test loss: 0.4782, Test accuracy: 0.7730\n",
      "577/577 [==============================] - 1s 2ms/step\n"
     ]
    },
    {
     "data": {
      "image/png": "[encoded data removed]",
      "text/plain": [
       "<Figure size 700x500 with 2 Axes>"
      ]
     },
     "metadata": {},
     "output_type": "display_data"
    }
   ],
   "source": [
    "# Evaluate the model on the test set\n",
    "loss, accuracy = model.evaluate(X_test_scaled, y_test)\n",
    "print(f'Test loss: {loss:.4f}, Test accuracy: {accuracy:.4f}')\n",
    "\n",
    "# Make predictions on the test set\n",
    "y_pred = model.predict(X_test_scaled)\n",
    "y_pred = np.round(y_pred)\n",
    "\n",
    "# Compute and print the confusion matrix\n",
    "plot_confusion_matrix(y_test, y_pred, ['Negative', 'Positive'])\n",
    "\n"
   ]
  },
  {
   "cell_type": "code",
   "execution_count": 11,
   "id": "433b3542-527e-49e7-abc2-c2e87f678696",
   "metadata": {},
   "outputs": [
    {
     "data": {
      "text/plain": [
       "[('time spent doing moderate physical activity', 0.34561032),\n",
       " ('white blood cell count', 0.31806508),\n",
       " ('Glucose level', 0.3127838),\n",
       " ('LDL cholesterol blood result', 0.30751434),\n",
       " ('time spent doing light physical activity', 0.30421054),\n",
       " ('time spent doing vigorous physical activity', 0.30415738),\n",
       " ('Systolic blood pressure', 0.29265785),\n",
       " ('HDL cholesterol blood result', 0.29214135),\n",
       " ('red blood cell count', 0.28897825),\n",
       " ('Illnesses of father', 0.2882375),\n",
       " ('Diastolic blood pressure', 0.28071192),\n",
       " ('Illnesses of siblings', 0.27914113),\n",
       " ('Illnesses of mother', 0.27749974),\n",
       " ('BMI', 0.27220464),\n",
       " ('Pulse rate', 0.26031706)]"
      ]
     },
     "execution_count": 11,
     "metadata": {},
     "output_type": "execute_result"
    }
   ],
   "source": [
    "features = [feature for feature in X.columns]\n",
    "rank_features_by_importance(model, features)"
   ]
  },
  {
   "cell_type": "code",
   "execution_count": null,
   "id": "d2701ac8-834e-4955-8d1d-1f57feb70c71",
   "metadata": {},
   "outputs": [],
   "source": []
  }
 ],
 "metadata": {
  "kernelspec": {
   "display_name": "Python 3 (ipykernel)",
   "language": "python",
   "name": "python3"
  },
  "language_info": {
   "codemirror_mode": {
    "name": "ipython",
    "version": 3
   },
   "file_extension": ".py",
   "mimetype": "text/x-python",
   "name": "python",
   "nbconvert_exporter": "python",
   "pygments_lexer": "ipython3",
   "version": "3.10.7"
  }
 },
 "nbformat": 4,
 "nbformat_minor": 5
}
